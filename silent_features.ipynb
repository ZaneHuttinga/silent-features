{
 "cells": [
  {
   "cell_type": "code",
   "execution_count": 1,
   "metadata": {},
   "outputs": [],
   "source": [
    "# Import necessary libraries\n",
    "\n",
    "import pandas as pd\n",
    "import matplotlib.pyplot as plt\n",
    "import matplotlib.ticker as ticker\n",
    "import bar_chart_race as bcr\n",
    "from matplotlib.animation import FuncAnimation"
   ]
  },
  {
   "cell_type": "code",
   "execution_count": 2,
   "metadata": {},
   "outputs": [],
   "source": [
    "# Import list of silent features from .csv file.\n",
    "data = pd.read_csv(\"Resources/silent_features.csv\", encoding='ISO-8859-1', usecols=['Number', 'Beginning Year', 'Ending Year', 'Country 1', 'Country 2', 'Country 3'], on_bad_lines='skip', header=0)"
   ]
  },
  {
   "cell_type": "code",
   "execution_count": 4,
   "metadata": {},
   "outputs": [],
   "source": [
    "# Begin creating the count of movies in each year. We will load this into a DataFrame below for use in the bar chart race. \n",
    "# Count number of movies.\n",
    "movie_count = len(data.index)"
   ]
  },
  {
   "cell_type": "code",
   "execution_count": 6,
   "metadata": {},
   "outputs": [
    {
     "name": "stdout",
     "output_type": "stream",
     "text": [
      "                0    1    2    3    4    5    6    7    8    9    ...  458  \\\n",
      "Beginning Year                                                    ...        \n",
      "1922            NaN  1.0  1.0  1.0  1.0  1.0  1.0  1.0  1.0  1.0  ...   21   \n",
      "1927            NaN  NaN  1.0  1.0  1.0  1.0  2.0  2.0  2.0  2.0  ...   42   \n",
      "1928            NaN  NaN  NaN  1.0  1.0  1.0  1.0  1.0  1.0  1.0  ...   39   \n",
      "1925            NaN  NaN  NaN  NaN  1.0  1.0  1.0  2.0  2.0  2.0  ...   34   \n",
      "1923            NaN  NaN  NaN  NaN  NaN  1.0  1.0  1.0  2.0  2.0  ...   23   \n",
      "1931            NaN  NaN  NaN  NaN  NaN  NaN  NaN  NaN  NaN  1.0  ...    7   \n",
      "1930            NaN  NaN  NaN  NaN  NaN  NaN  NaN  NaN  NaN  NaN  ...    7   \n",
      "1929            NaN  NaN  NaN  NaN  NaN  NaN  NaN  NaN  NaN  NaN  ...   27   \n",
      "1921            NaN  NaN  NaN  NaN  NaN  NaN  NaN  NaN  NaN  NaN  ...   24   \n",
      "1924            NaN  NaN  NaN  NaN  NaN  NaN  NaN  NaN  NaN  NaN  ...   28   \n",
      "1920            NaN  NaN  NaN  NaN  NaN  NaN  NaN  NaN  NaN  NaN  ...   23   \n",
      "1926            NaN  NaN  NaN  NaN  NaN  NaN  NaN  NaN  NaN  NaN  ...   36   \n",
      "1918            NaN  NaN  NaN  NaN  NaN  NaN  NaN  NaN  NaN  NaN  ...   10   \n",
      "1915            NaN  NaN  NaN  NaN  NaN  NaN  NaN  NaN  NaN  NaN  ...   14   \n",
      "1903            NaN  NaN  NaN  NaN  NaN  NaN  NaN  NaN  NaN  NaN  ...    1   \n",
      "1916            NaN  NaN  NaN  NaN  NaN  NaN  NaN  NaN  NaN  NaN  ...   26   \n",
      "1919            NaN  NaN  NaN  NaN  NaN  NaN  NaN  NaN  NaN  NaN  ...   25   \n",
      "1914            NaN  NaN  NaN  NaN  NaN  NaN  NaN  NaN  NaN  NaN  ...   12   \n",
      "1911            NaN  NaN  NaN  NaN  NaN  NaN  NaN  NaN  NaN  NaN  ...    5   \n",
      "1913            NaN  NaN  NaN  NaN  NaN  NaN  NaN  NaN  NaN  NaN  ...   14   \n",
      "1912            NaN  NaN  NaN  NaN  NaN  NaN  NaN  NaN  NaN  NaN  ...   10   \n",
      "1934            NaN  NaN  NaN  NaN  NaN  NaN  NaN  NaN  NaN  NaN  ...    5   \n",
      "1917            NaN  NaN  NaN  NaN  NaN  NaN  NaN  NaN  NaN  NaN  ...   11   \n",
      "1933            NaN  NaN  NaN  NaN  NaN  NaN  NaN  NaN  NaN  NaN  ...    4   \n",
      "1935            NaN  NaN  NaN  NaN  NaN  NaN  NaN  NaN  NaN  NaN  ...    4   \n",
      "1932            NaN  NaN  NaN  NaN  NaN  NaN  NaN  NaN  NaN  NaN  ...    3   \n",
      "1936            NaN  NaN  NaN  NaN  NaN  NaN  NaN  NaN  NaN  NaN  ...    1   \n",
      "1939            NaN  NaN  NaN  NaN  NaN  NaN  NaN  NaN  NaN  NaN  ...    1   \n",
      "1937            NaN  NaN  NaN  NaN  NaN  NaN  NaN  NaN  NaN  NaN  ...    1   \n",
      "\n",
      "                459  460  461  462  463  464  465  466  467  \n",
      "Beginning Year                                               \n",
      "1922             21   21   21   21   21   21   21   21   21  \n",
      "1927             42   42   43   43   44   44   44   44   44  \n",
      "1928             39   39   39   39   39   39   39   39   40  \n",
      "1925             34   34   34   34   34   34   34   34   34  \n",
      "1923             23   23   23   23   23   23   23   23   23  \n",
      "1931              7    7    7    7    7    7    7    7    7  \n",
      "1930              7    7    7    7    7    7    7    7    7  \n",
      "1929             27   27   27   27   27   27   27   27   27  \n",
      "1921             24   24   24   24   24   24   24   24   24  \n",
      "1924             28   28   28   28   28   28   28   29   29  \n",
      "1920             23   23   23   23   23   23   23   23   23  \n",
      "1926             36   36   36   36   36   37   37   37   37  \n",
      "1918             11   11   11   11   11   11   11   11   11  \n",
      "1915             14   14   14   14   14   14   14   14   14  \n",
      "1903              1    1    1    1    1    1    1    1    1  \n",
      "1916             26   26   26   26   26   26   26   26   26  \n",
      "1919             25   25   25   26   26   26   27   27   27  \n",
      "1914             12   13   13   13   13   13   13   13   13  \n",
      "1911              5    5    5    5    5    5    5    5    5  \n",
      "1913             14   14   14   14   14   14   14   14   14  \n",
      "1912             10   10   10   10   10   10   10   10   10  \n",
      "1934              5    5    5    5    5    5    5    5    5  \n",
      "1917             11   11   11   11   11   11   11   11   11  \n",
      "1933              4    4    4    4    4    4    4    4    4  \n",
      "1935              4    4    4    4    4    4    4    4    4  \n",
      "1932              3    3    3    3    3    3    3    3    3  \n",
      "1936              1    1    1    1    1    1    1    1    1  \n",
      "1939              1    1    1    1    1    1    1    1    1  \n",
      "1937              1    1    1    1    1    1    1    1    1  \n",
      "\n",
      "[29 rows x 468 columns]\n"
     ]
    }
   ],
   "source": [
    "# Create an empty DataFrame, which we will load with the counts by year.\n",
    "frames = pd.DataFrame()\n",
    "\n",
    "# Count the movies by year with a for loop.\n",
    "for i in range(movie_count):\n",
    "    # Pick out the first i rows of the dataset.\n",
    "    so_far = data.iloc[range(i),:]\n",
    "    # Create a new column in the DataFrame 'frames' that will store the counts for the first i rows.\n",
    "    new_col = pd.DataFrame(so_far.groupby(\"Beginning Year\")[\"Beginning Year\"].count())\n",
    "    # Rename the new column to the corresponding row number.\n",
    "    new_col = new_col.rename(columns = {\"Beginning Year\" : i})\n",
    "    # Add the new column to the 'frames' DataFrame.\n",
    "    frames = pd.concat([frames, new_col], axis = 1)\n",
    "\n",
    "print(frames)"
   ]
  }
 ],
 "metadata": {
  "kernelspec": {
   "display_name": "base",
   "language": "python",
   "name": "python3"
  },
  "language_info": {
   "codemirror_mode": {
    "name": "ipython",
    "version": 3
   },
   "file_extension": ".py",
   "mimetype": "text/x-python",
   "name": "python",
   "nbconvert_exporter": "python",
   "pygments_lexer": "ipython3",
   "version": "3.12.3"
  }
 },
 "nbformat": 4,
 "nbformat_minor": 2
}
